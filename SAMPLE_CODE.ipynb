{
  "nbformat": 4,
  "nbformat_minor": 0,
  "metadata": {
    "colab": {
      "provenance": [],
      "authorship_tag": "ABX9TyPfTgobTyH8Ojc9uQ430FJK",
      "include_colab_link": true
    },
    "kernelspec": {
      "name": "python3",
      "display_name": "Python 3"
    },
    "language_info": {
      "name": "python"
    }
  },
  "cells": [
    {
      "cell_type": "markdown",
      "metadata": {
        "id": "view-in-github",
        "colab_type": "text"
      },
      "source": [
        "<a href=\"https://colab.research.google.com/github/Tejashree-ghub/FUZZY-TUTOR/blob/main/SAMPLE_CODE.ipynb\" target=\"_parent\"><img src=\"https://colab.research.google.com/assets/colab-badge.svg\" alt=\"Open In Colab\"/></a>"
      ]
    },
    {
      "cell_type": "code",
      "execution_count": 1,
      "metadata": {
        "colab": {
          "base_uri": "https://localhost:8080/"
        },
        "id": "klfnkJSiTgq4",
        "outputId": "44b28e80-d142-4654-e81f-56a334f2347b"
      },
      "outputs": [
        {
          "output_type": "stream",
          "name": "stdout",
          "text": [
            "Requirement already satisfied: numpy in /usr/local/lib/python3.10/dist-packages (1.23.5)\n",
            "Collecting scikit-fuzzy\n",
            "  Downloading scikit-fuzzy-0.4.2.tar.gz (993 kB)\n",
            "\u001b[2K     \u001b[90m━━━━━━━━━━━━━━━━━━━━━━━━━━━━━━━━━━━━━━━━\u001b[0m \u001b[32m994.0/994.0 kB\u001b[0m \u001b[31m11.5 MB/s\u001b[0m eta \u001b[36m0:00:00\u001b[0m\n",
            "\u001b[?25h  Preparing metadata (setup.py) ... \u001b[?25l\u001b[?25hdone\n",
            "Requirement already satisfied: matplotlib in /usr/local/lib/python3.10/dist-packages (3.7.1)\n",
            "Requirement already satisfied: scipy>=0.9.0 in /usr/local/lib/python3.10/dist-packages (from scikit-fuzzy) (1.11.3)\n",
            "Requirement already satisfied: networkx>=1.9.0 in /usr/local/lib/python3.10/dist-packages (from scikit-fuzzy) (3.2.1)\n",
            "Requirement already satisfied: contourpy>=1.0.1 in /usr/local/lib/python3.10/dist-packages (from matplotlib) (1.2.0)\n",
            "Requirement already satisfied: cycler>=0.10 in /usr/local/lib/python3.10/dist-packages (from matplotlib) (0.12.1)\n",
            "Requirement already satisfied: fonttools>=4.22.0 in /usr/local/lib/python3.10/dist-packages (from matplotlib) (4.44.3)\n",
            "Requirement already satisfied: kiwisolver>=1.0.1 in /usr/local/lib/python3.10/dist-packages (from matplotlib) (1.4.5)\n",
            "Requirement already satisfied: packaging>=20.0 in /usr/local/lib/python3.10/dist-packages (from matplotlib) (23.2)\n",
            "Requirement already satisfied: pillow>=6.2.0 in /usr/local/lib/python3.10/dist-packages (from matplotlib) (9.4.0)\n",
            "Requirement already satisfied: pyparsing>=2.3.1 in /usr/local/lib/python3.10/dist-packages (from matplotlib) (3.1.1)\n",
            "Requirement already satisfied: python-dateutil>=2.7 in /usr/local/lib/python3.10/dist-packages (from matplotlib) (2.8.2)\n",
            "Requirement already satisfied: six>=1.5 in /usr/local/lib/python3.10/dist-packages (from python-dateutil>=2.7->matplotlib) (1.16.0)\n",
            "Building wheels for collected packages: scikit-fuzzy\n",
            "  Building wheel for scikit-fuzzy (setup.py) ... \u001b[?25l\u001b[?25hdone\n",
            "  Created wheel for scikit-fuzzy: filename=scikit_fuzzy-0.4.2-py3-none-any.whl size=894078 sha256=e1e27851b663c7ef605d343cf1326718e27fdd4dac3a97bf19c7b39de3cf86d5\n",
            "  Stored in directory: /root/.cache/pip/wheels/4f/86/1b/dfd97134a2c8313e519bcebd95d3fedc7be7944db022094bc8\n",
            "Successfully built scikit-fuzzy\n",
            "Installing collected packages: scikit-fuzzy\n",
            "Successfully installed scikit-fuzzy-0.4.2\n"
          ]
        }
      ],
      "source": [
        "pip install numpy scikit-fuzzy matplotlib"
      ]
    },
    {
      "cell_type": "code",
      "source": [
        "import numpy as np\n",
        "import skfuzzy as fuzz\n",
        "from skfuzzy import control as ctrl\n",
        "import matplotlib.pyplot as plt\n",
        "\n",
        "# Student Answer Analysis\n",
        "\n",
        "# Define linguistic variables and fuzzy sets for student answer analysis\n",
        "accuracy = ctrl.Antecedent(np.arange(0, 101, 1), 'accuracy')\n",
        "feedback = ctrl.Consequent(np.arange(0, 101, 1), 'feedback')\n",
        "\n",
        "# Membership functions for accuracy\n",
        "accuracy['low'] = fuzz.trimf(accuracy.universe, [0, 0, 50])\n",
        "accuracy['medium'] = fuzz.trimf(accuracy.universe, [0, 50, 100])\n",
        "accuracy['high'] = fuzz.trimf(accuracy.universe, [50, 100, 100])\n",
        "\n",
        "# Membership functions for feedback\n",
        "feedback['low'] = fuzz.trimf(feedback.universe, [0, 0, 50])\n",
        "feedback['medium'] = fuzz.trimf(feedback.universe, [0, 50, 100])\n",
        "feedback['high'] = fuzz.trimf(feedback.universe, [50, 100, 100])\n",
        "\n",
        "# Define fuzzy rules for student answer analysis\n",
        "rule1 = ctrl.Rule(accuracy['low'], feedback['low'])\n",
        "rule2 = ctrl.Rule(accuracy['medium'], feedback['medium'])\n",
        "rule3 = ctrl.Rule(accuracy['high'], feedback['high'])\n",
        "\n",
        "# Create fuzzy control system for student answer analysis\n",
        "feedback_ctrl = ctrl.ControlSystem([rule1, rule2, rule3])\n",
        "feedback_system = ctrl.ControlSystemSimulation(feedback_ctrl)\n",
        "\n",
        "# Set sample input based on the student's answer\n",
        "keywords = [\n",
        "    \"indispensable\", \"process\", \"fuzzy logic systems\", \"convert\", \"precise\",\n",
        "    \"decisions\", \"implementing actions\", \"input variables\", \"fuzzy sets\",\n",
        "    \"system rules\", \"produce\", \"applied\", \"yield\", \"singular\", \"utilized\",\n",
        "    \"practical applications\", \"control systems\"\n",
        "]\n",
        "\n",
        "# Calculate accuracy based on the presence of keywords\n",
        "accuracy_percentage = (sum(keyword in keywords for keyword in keywords) / len(keywords)) * 100\n",
        "\n",
        "# Set linguistic variables based on accuracy for student answer analysis\n",
        "feedback_system.input['accuracy'] = accuracy_percentage\n",
        "\n",
        "# Compute the result for student answer analysis\n",
        "feedback_system.compute()\n",
        "\n",
        "# Get the defuzzified output for student answer analysis\n",
        "feedback_level = feedback_system.output['feedback']\n",
        "\n",
        "# Print the results for student answer analysis\n",
        "print(\"Student Answer Analysis:\")\n",
        "print(f\"Accuracy Percentage: {accuracy_percentage:.2f}%\")\n",
        "print(f\"Feedback Level: {feedback_level:.2f}%\")\n",
        "\n",
        "# Interpret the feedback level for student answer analysis\n",
        "if feedback_level <= 30:\n",
        "    print(\"Feedback: Poor. Consider reviewing the topic thoroughly.\")\n",
        "elif 30 < feedback_level <= 70:\n",
        "    print(\"Feedback: Average. Some improvement is needed. Review specific concepts.\")\n",
        "else:\n",
        "    print(\"Feedback: Good. Your answer demonstrates a solid understanding of the topic.\")\n",
        "\n",
        "# Performance Evaluation\n",
        "\n",
        "# Define linguistic variables and fuzzy sets for performance evaluation\n",
        "exam_content = ctrl.Antecedent(np.arange(0, 101, 1), 'exam_content')\n",
        "time_management = ctrl.Antecedent(np.arange(0, 101, 1), 'time_management')\n",
        "goal_setting = ctrl.Antecedent(np.arange(0, 101, 1), 'goal_setting')\n",
        "performance = ctrl.Consequent(np.arange(0, 101, 1), 'performance')\n",
        "\n",
        "# Membership functions for performance evaluation\n",
        "# (Define membership functions for exam_content, time_management, goal_setting)\n",
        "\n",
        "# Rules for performance evaluation\n",
        "# (Define rules for performance evaluation using these Antecedents and Consequent)\n",
        "\n",
        "# Control System for performance evaluation\n",
        "performance_ctrl = ctrl.ControlSystem([rule1, rule2, rule3])\n",
        "performance_sim = ctrl.ControlSystemSimulation(performance_ctrl)\n",
        "\n",
        "\n",
        "\n",
        "# Compute for performance evaluation\n",
        "performance_sim.compute()\n",
        "\n",
        "\n",
        "\n",
        "# Visualization for performance evaluation\n",
        "# (Plot the membership functions and visualization for performance evaluation)\n",
        "# (exam_content.view(), time_management.view(), goal_setting.view(), performance.view(sim=performance_sim))\n",
        "# (plt.show() for plotting)\n"
      ],
      "metadata": {
        "colab": {
          "base_uri": "https://localhost:8080/"
        },
        "id": "P0XpSmjxTh2G",
        "outputId": "d8d1e6c1-8233-48f7-ad60-89df156459b4"
      },
      "execution_count": 2,
      "outputs": [
        {
          "output_type": "stream",
          "name": "stdout",
          "text": [
            "Student Answer Analysis:\n",
            "Accuracy Percentage: 100.00%\n",
            "Feedback Level: 83.33%\n",
            "Feedback: Good. Your answer demonstrates a solid understanding of the topic.\n"
          ]
        }
      ]
    }
  ]
}